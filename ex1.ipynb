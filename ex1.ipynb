{
 "cells": [
  {
   "cell_type": "code",
   "execution_count": null,
   "metadata": {
    "collapsed": true
   },
   "outputs": [],
   "source": [
    "import numpy as np\n",
    "import matplotlib.pyplot as plt"
   ]
  },
  {
   "cell_type": "markdown",
   "metadata": {},
   "source": [
    "## Q1: value iterations"
   ]
  },
  {
   "cell_type": "markdown",
   "metadata": {},
   "source": [
    "let's incode the states and the actions:"
   ]
  },
  {
   "cell_type": "code",
   "execution_count": 12,
   "metadata": {
    "collapsed": false
   },
   "outputs": [],
   "source": [
    "# we encode the space as follow:\n",
    "#\n",
    "#          |20|\n",
    "# |17|18|19| 0| 1| 2| 3|\n",
    "# |16|     |21|     | 4|\n",
    "# |15|              | 5|\n",
    "# |14|     |22|     | 6|\n",
    "# |13|12|11|10| 9| 8| 7|\n",
    "\n",
    "states_given_up = {0:20,4:3,5:4,6:5,7:6,10:22,13:14,14:15,15:16,16:17,21:0}\n",
    "states_given_down = {20:0,0:21,3:4,4:5,5:6,6:7,17:16,16:15,15:14,14:13}\n",
    "states_given_left = {3:2,2:1,1:0,0:19,19:18,18:17,7:8,8:9,9:10,10:11,12:13}\n",
    "states_given_right = {17:18,18:19,19:0,0:1,1:2,2:3,13:12,12:11,11:10,10:9,9:8,8:7}\n",
    "\n",
    "actions_to_moves = {0:states_given_up,\n",
    "                    1:states_given_down,\n",
    "                    2:states_given_left,\n",
    "                    3:states_given_right,\n",
    "                    4:{}}\n",
    "\n",
    "n_actions = 5\n",
    "n_states = 23"
   ]
  },
  {
   "cell_type": "markdown",
   "metadata": {},
   "source": [
    "then the reward function and transition probabilities (viewed as 3-dimension tables)"
   ]
  },
  {
   "cell_type": "code",
   "execution_count": 13,
   "metadata": {
    "collapsed": true
   },
   "outputs": [],
   "source": [
    "def init_P_and_R():\n",
    "    P = np.zeros((n_actions,n_states,n_states))\n",
    "    for action in range(n_actions):\n",
    "        for state in range(n_states):\n",
    "            move = actions_to_moves[action]\n",
    "            if state in move:\n",
    "                P[action,state,state] = 0.1\n",
    "                if move[state] in move:\n",
    "                    P[action,state,move[state]] = 0.75\n",
    "                    P[action,state,move[move[state]]] = 0.15\n",
    "                else:\n",
    "                    P[action,state,move[state]] = 0.9\n",
    "            else:\n",
    "                P[action,state,state] = 1.\n",
    "    R = np.zeros((n_actions,n_states,n_states))\n",
    "    R[1,0,21] = -100\n",
    "    R[0,10,22] = 10\n",
    "    return P,R"
   ]
  },
  {
   "cell_type": "markdown",
   "metadata": {},
   "source": [
    "let's init V and parameters:"
   ]
  },
  {
   "cell_type": "code",
   "execution_count": 14,
   "metadata": {
    "collapsed": false
   },
   "outputs": [],
   "source": [
    "P,R = init_P_and_R()\n",
    "V = np.zeros(n_states)\n",
    "gamma = 0.95\n",
    "maximal_time = 100"
   ]
  },
  {
   "cell_type": "markdown",
   "metadata": {},
   "source": [
    "we run value iterations:"
   ]
  },
  {
   "cell_type": "code",
   "execution_count": 15,
   "metadata": {
    "collapsed": true
   },
   "outputs": [],
   "source": [
    "for t in range(maximal_time):\n",
    "    new_V = np.max(np.sum(P*(R + gamma*np.tile(V,(n_actions,n_states,1))),2),0)\n",
    "    V = new_V"
   ]
  },
  {
   "cell_type": "markdown",
   "metadata": {},
   "source": [
    "resulting optimal Q* and policy"
   ]
  },
  {
   "cell_type": "code",
   "execution_count": 18,
   "metadata": {
    "collapsed": false
   },
   "outputs": [
    {
     "name": "stdout",
     "output_type": "stream",
     "text": [
      "[2 3 3 1 1 1 1 2 2 2 0 3 3 3 1 1 1 1 2 2 1 0 0]\n"
     ]
    }
   ],
   "source": [
    "Q_star = np.sum(P*(R + gamma*np.tile(V,(n_actions,n_states,1))),2)\n",
    "policy = np.argmax(Q_star,0)\n",
    "#print(Q_star)\n",
    "print(policy)"
   ]
  },
  {
   "cell_type": "markdown",
   "metadata": {},
   "source": [
    "## Q2: convergency"
   ]
  },
  {
   "cell_type": "markdown",
   "metadata": {},
   "source": [
    "let's do it again, knowing $Q*$"
   ]
  },
  {
   "cell_type": "code",
   "execution_count": 19,
   "metadata": {
    "collapsed": false
   },
   "outputs": [
    {
     "data": {
      "image/png": "[encoded data removed]",
      "text/plain": [
       "<matplotlib.figure.Figure at 0x7f4710210c88>"
      ]
     },
     "metadata": {},
     "output_type": "display_data"
    }
   ],
   "source": [
    "V = np.zeros(n_states)\n",
    "epsilons = []\n",
    "\n",
    "for t in range(maximal_time):\n",
    "    Q_k = np.sum(P*(R + gamma*np.tile(V,(n_actions,n_states,1))),2)\n",
    "    new_V = np.max(Q_k,0)\n",
    "    epsilons.append(np.mean(np.abs(Q_star-Q_k)))\n",
    "    V = new_V\n",
    "\n",
    "plt.plot(epsilons)\n",
    "plt.show()"
   ]
  },
  {
   "cell_type": "markdown",
   "metadata": {},
   "source": [
    "we see that value iterations are realy effective for this MDP with only 18 iterations to reach optimal values"
   ]
  },
  {
   "cell_type": "markdown",
   "metadata": {},
   "source": [
    "## Q3: Q-learning"
   ]
  },
  {
   "cell_type": "markdown",
   "metadata": {},
   "source": [
    "let's init Q and parameters"
   ]
  },
  {
   "cell_type": "code",
   "execution_count": 40,
   "metadata": {
    "collapsed": true
   },
   "outputs": [],
   "source": [
    "Q = np.random.rand(n_actions, n_states)\n",
    "state = 20\n",
    "gamma = 0.95\n",
    "alpha = 0.05\n",
    "epsilon = 0.2\n",
    "maximal_time = 200000\n",
    "epsilons = []"
   ]
  },
  {
   "cell_type": "markdown",
   "metadata": {},
   "source": [
    "we quickly implemente eps-greedy function:"
   ]
  },
  {
   "cell_type": "code",
   "execution_count": 41,
   "metadata": {
    "collapsed": true
   },
   "outputs": [],
   "source": [
    "def epsilon_greedy(values):\n",
    "    action = np.argmax(values)\n",
    "    if np.random.rand()<epsilon:\n",
    "        action = np.random.choice(n_actions)\n",
    "    return action"
   ]
  },
  {
   "cell_type": "markdown",
   "metadata": {},
   "source": [
    "and we run Q-learning loop:"
   ]
  },
  {
   "cell_type": "code",
   "execution_count": 42,
   "metadata": {
    "collapsed": true
   },
   "outputs": [],
   "source": [
    "for t in range(maximal_time):\n",
    "    action = epsilon_greedy(Q[:,state])\n",
    "    new_state = np.random.choice(n_states, p=(P[action,state,:]))\n",
    "    reward = R[action,state,new_state]\n",
    "    done = 0\n",
    "    if new_state==22:\n",
    "        new_state = 20\n",
    "        done = 1\n",
    "    Q[action,state] += alpha*(reward + (1-done)*gamma*np.max(Q[:,new_state]) - Q[action,state])\n",
    "    epsilons.append(np.mean(np.abs(Q_star-Q)))\n",
    "    state = new_state"
   ]
  },
  {
   "cell_type": "markdown",
   "metadata": {},
   "source": [
    "let see the resulting policy and the convergency to Q*:"
   ]
  },
  {
   "cell_type": "code",
   "execution_count": 43,
   "metadata": {
    "collapsed": false
   },
   "outputs": [
    {
     "name": "stdout",
     "output_type": "stream",
     "text": [
      "[3 3 3 1 1 1 1 2 2 2 0 3 3 3 1 1 1 1 3 3 1 0 4]\n"
     ]
    },
    {
     "data": {
      "image/png": "[encoded data removed]",
      "text/plain": [
       "<matplotlib.figure.Figure at 0x7f46e533e048>"
      ]
     },
     "metadata": {},
     "output_type": "display_data"
    }
   ],
   "source": [
    "#print(Q)\n",
    "policy = np.argmax(Q,0)\n",
    "print(policy)\n",
    "plt.plot(epsilons)\n",
    "plt.show()"
   ]
  },
  {
   "cell_type": "markdown",
   "metadata": {},
   "source": [
    "The policy is sometime optimal after 200000 iteration, but not allways and can present small suboptimalities  (for exemple it goes right in states 18 and 19). We also observe difference where there is an arbitrary choice (left or right after first step, action in terminal state)\n",
    "\n",
    "concerning convergency to $Q*$, we see how Q-learning was inefficient comparing to value iterations, and it tends to  Q-values close but different than $Q*$."
   ]
  },
  {
   "cell_type": "markdown",
   "metadata": {},
   "source": [
    "## Q4: SARSA"
   ]
  },
  {
   "cell_type": "markdown",
   "metadata": {},
   "source": [
    "let's init Q and parameters"
   ]
  },
  {
   "cell_type": "code",
   "execution_count": 44,
   "metadata": {
    "collapsed": true
   },
   "outputs": [],
   "source": [
    "Q = np.random.rand(n_actions,n_states)\n",
    "state = 20\n",
    "action = epsilon_greedy(Q[:,state])\n",
    "gamma = 0.95\n",
    "alpha = 0.05\n",
    "epsilon = 0.2\n",
    "maximal_time = 200000\n",
    "epsilons = []"
   ]
  },
  {
   "cell_type": "markdown",
   "metadata": {},
   "source": [
    "and we run SARSA loop:"
   ]
  },
  {
   "cell_type": "code",
   "execution_count": 45,
   "metadata": {
    "collapsed": true
   },
   "outputs": [],
   "source": [
    "for t in range(maximal_time):\n",
    "    new_state = np.random.choice(n_states, p=(P[action,state,:]))\n",
    "    reward = R[action,state,new_state]\n",
    "    done = 0\n",
    "    if new_state==22:\n",
    "        new_state = 20\n",
    "        done = 1\n",
    "    new_action = epsilon_greedy(Q[:,new_state])\n",
    "    Q[action,state] += alpha*(reward + (1-done)*gamma*Q[new_action,new_state] - Q[action,state])\n",
    "    epsilons.append(np.mean(np.abs(Q_star-Q)))\n",
    "    state = new_state\n",
    "    action = new_action"
   ]
  },
  {
   "cell_type": "markdown",
   "metadata": {},
   "source": [
    "let see the resulting policy and the convergency to Q*:"
   ]
  },
  {
   "cell_type": "code",
   "execution_count": 46,
   "metadata": {
    "collapsed": false
   },
   "outputs": [
    {
     "name": "stdout",
     "output_type": "stream",
     "text": [
      "[3 3 3 1 1 1 1 2 2 2 0 3 3 3 1 1 1 1 2 2 3 0 1]\n"
     ]
    },
    {
     "data": {
      "image/png": "[encoded data removed]",
      "text/plain": [
       "<matplotlib.figure.Figure at 0x7f46e52e1c50>"
      ]
     },
     "metadata": {},
     "output_type": "display_data"
    }
   ],
   "source": [
    "#print(Q)\n",
    "policy = np.argmax(Q,0)\n",
    "print(policy)\n",
    "plt.plot(epsilons)\n",
    "plt.show()"
   ]
  },
  {
   "cell_type": "markdown",
   "metadata": {},
   "source": [
    "Again, the policy is sometime optimal after 200000 iteration, but not allways and can present small suboptimalities (for exemple it goes right in states 18 and 19). We also observe difference where there is an arbitrary choice (left or right after first step, action in terminal state)\n",
    "\n",
    "concerning convergency to $Q*$, SARSA was also inefficient comparing to value iterations and even slower than Q-learning. After 200000, it seems tending to Q-values a bit closer to $Q*$ than with Q-learning (but maybe it's luck)."
   ]
  },
  {
   "cell_type": "code",
   "execution_count": null,
   "metadata": {
    "collapsed": true
   },
   "outputs": [],
   "source": []
  }
 ],
 "metadata": {
  "kernelspec": {
   "display_name": "Python 3",
   "language": "python",
   "name": "python3"
  },
  "language_info": {
   "codemirror_mode": {
    "name": "ipython",
    "version": 3
   },
   "file_extension": ".py",
   "mimetype": "text/x-python",
   "name": "python",
   "nbconvert_exporter": "python",
   "pygments_lexer": "ipython3",
   "version": "3.5.2"
  }
 },
 "nbformat": 4,
 "nbformat_minor": 2
}
