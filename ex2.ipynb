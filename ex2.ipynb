{
 "cells": [
  {
   "cell_type": "markdown",
   "metadata": {
    "collapsed": true
   },
   "source": [
    "# EX 2"
   ]
  },
  {
   "cell_type": "markdown",
   "metadata": {},
   "source": [
    "We have:\n",
    "\\begin{equation}\n",
    "T_{\\pi}^{(\\lambda)}V = \\sum_n (\\lambda \\gamma P_{\\pi})^n [r_{\\pi} \\gamma P_{\\pi} - V] + V\n",
    "\\end{equation}\n",
    "\n",
    "We want:\n",
    "\\begin{equation}\n",
    "\\left\\|T_{\\pi}^{(\\lambda)}V - T_{\\pi}^{(\\lambda)}W\\right\\|_{\\infty} \\leq k\\left\\|V - W\\right\\|_{\\infty}\n",
    "\\end{equation}\n",
    "with $k<1$\n",
    "\n",
    "First, we observe that:\n",
    "\\begin{equation}\n",
    "\\left\\|(\\gamma P_{\\pi} - I_d)(V)\\right\\|_{\\infty} \\leq ( \\gamma - 1) \\left\\|V\\right\\|_{\\infty} \\textit{    (1)}\n",
    "\\end{equation}\n",
    "\n",
    "Proof:\n",
    "\\begin{align}\n",
    "\\left\\|(\\gamma P_{\\pi} - I_d)(V)\\right\\|_{\\infty} & = \\sup_j \\sum_i (\\gamma P_{ij} - \\mathbb{1}_{i=j}) V_j\\\\\n",
    "& \\leq \\left\\|V\\right\\|_{\\infty}  \\sup_j\\, (\\gamma \\sum_i P_{ij} - \\sum_i \\mathbb{1}_{i=j})\\\\\n",
    "& \\leq \\left\\|V\\right\\|_{\\infty}  \\sup_j\\, ( \\gamma \\mathbb{P}[X=j] - 1)\\\\\n",
    "& \\leq \\left\\|V\\right\\|_{\\infty}  ( \\gamma - 1)\n",
    "\\end{align}\n",
    "\n",
    "Now we can compute:\n",
    "\\begin{align}\n",
    "\\left\\|T_{\\pi}^{(\\lambda)}V - T_{\\pi}^{(\\lambda)}W\\right\\|_{\\infty} & = \\left\\|\\sum_n (\\lambda \\gamma P_{\\pi})^n [ \\gamma P_{\\pi} - I_d] (V-W) + (V-W) \\right\\|_{\\infty}\\\\\n",
    "& \\leq \\left\\| (\\gamma P_{\\pi} - I_d)(V-W)\\right\\|_{\\infty} \\left\\|\\sum_n (\\lambda \\gamma P_{\\pi})^n\\right\\|_{\\infty} + \\left\\|V-W\\right\\|_{\\infty} \\textit{    triangle inequality on the '+'}\\\\\n",
    "& \\leq \\left( ( \\gamma - 1) \\sum_n (\\lambda \\gamma\\left\\|P_{\\pi}\\right\\|_{\\infty})^n + 1 \\right) \\left\\|V-W\\right\\|_{\\infty} \\textit{    applying (1) and triangle ineq. on the sum}\\\\\n",
    "& \\leq \\left( \\frac{\\gamma - 1}{1-\\lambda \\gamma\\left\\|P_{\\pi}\\right\\|_{\\infty}} + 1 \\right) \\left\\|V-W\\right\\|_{\\infty} \\textit{    geometric sum trick}\\\\\n",
    "\\end{align}\n",
    "\n",
    "And we can take $k = \\frac{\\gamma - 1}{1-\\lambda \\gamma\\left\\|P_{\\pi}\\right\\|_{\\infty}} + 1$ that is clearly smaller than 1\n"
   ]
  },
  {
   "cell_type": "code",
   "execution_count": null,
   "metadata": {
    "collapsed": true
   },
   "outputs": [],
   "source": []
  }
 ],
 "metadata": {
  "kernelspec": {
   "display_name": "Python 3",
   "language": "python",
   "name": "python3"
  },
  "language_info": {
   "codemirror_mode": {
    "name": "ipython",
    "version": 3
   },
   "file_extension": ".py",
   "mimetype": "text/x-python",
   "name": "python",
   "nbconvert_exporter": "python",
   "pygments_lexer": "ipython3",
   "version": "3.5.2"
  }
 },
 "nbformat": 4,
 "nbformat_minor": 2
}
